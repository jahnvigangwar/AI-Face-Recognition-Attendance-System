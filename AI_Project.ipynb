{
  "cells": [
    {
      "cell_type": "code",
      "execution_count": null,
      "metadata": {
        "id": "E7qZ3v0lWlDl"
      },
      "outputs": [],
      "source": [
        "import dlib\n",
        "import cv2\n",
        "import matplotlib.pyplot as plt\n",
        "from PIL import ImageChops, Image\n",
        "import numpy as np\n",
        "import os"
      ]
    },
    {
      "cell_type": "code",
      "execution_count": null,
      "metadata": {
        "id": "LN4M4FBAWqT7"
      },
      "outputs": [],
      "source": [
        "detector = dlib.get_frontal_face_detector()\n",
        "new_path ='/content/extracted/'\n",
        "\n",
        "def save(img,name, bbox, width=180,height=227):\n",
        "    x, y, w, h = bbox\n",
        "    imgCrop = img[y:h, x: w]\n",
        "    imgCrop = cv2.resize(imgCrop, (width, height)) #we need this line to reshape the images\n",
        "    cv2.imwrite(name+\".jpg\", imgCrop)\n",
        "\n",
        "def faces():\n",
        "    frame =cv2.imread('/content/people1.jpg')\n",
        "    gray =cv2.cvtColor(frame,cv2.COLOR_BGR2GRAY)\n",
        "    faces = detector(gray)\n",
        "    for counter,face in enumerate(faces):\n",
        "        x1, y1 = face.left(), face.top()\n",
        "        x2, y2 = face.right(), face.bottom()\n",
        "        cv2.rectangle(frame,(x1,y1),(x2,y2),(220,255,220),1)\n",
        "        save(frame,new_path+str(counter),(x1,y1,x2,y2))\n",
        "faces()"
      ]
    },
    {
      "cell_type": "code",
      "execution_count": null,
      "metadata": {
        "id": "4sXjbpU5V1mu"
      },
      "outputs": [],
      "source": [
        "detector = dlib.get_frontal_face_detector()\n",
        "new_path ='/content/newtest/'\n",
        "\n",
        "def save(img,name, bbox, width=180,height=227):\n",
        "    x, y, w, h = bbox\n",
        "    imgCrop = img[y:h, x: w]\n",
        "    imgCrop = cv2.resize(imgCrop, (width, height))#we need this line to reshape the images\n",
        "    cv2.imwrite(name+\".jpg\", imgCrop)\n",
        "\n",
        "def faces():\n",
        "    frame =cv2.imread('/content/new.jpg')\n",
        "    gray =cv2.cvtColor(frame,cv2.COLOR_BGR2GRAY)\n",
        "    faces = detector(gray)\n",
        "    for counter,face in enumerate(faces):\n",
        "        x1, y1 = face.left(), face.top()\n",
        "        x2, y2 = face.right(), face.bottom()\n",
        "        cv2.rectangle(frame,(x1,y1),(x2,y2),(220,255,220),1)\n",
        "        save(frame,new_path+str(counter),(x1,y1,x2,y2))\n",
        "faces()"
      ]
    },
    {
      "cell_type": "code",
      "execution_count": null,
      "metadata": {
        "id": "uW1xfA4VMMc5"
      },
      "outputs": [],
      "source": [
        "known_histograms=[]\n",
        "unknown_histograms=[]\n",
        "\n",
        "for file in os.listdir('/content/newtest'):\n",
        "  if '.jpg' in file:\n",
        "    im2 = Image.open('/content/newtest/'+file)\n",
        "    unknown_histograms.append([im2,np.array(im2.histogram())])\n",
        "\n",
        "for file in os.listdir('/content/extracted'):\n",
        "  if '.jpg' in file:\n",
        "    im2 = Image.open('/content/extracted/'+file)\n",
        "    known_histograms.append([im2,np.array(im2.histogram())])"
      ]
    },
    {
      "cell_type": "code",
      "execution_count": null,
      "metadata": {
        "id": "BSsaLzueOndu"
      },
      "outputs": [],
      "source": [
        "attendance = []\n",
        "\n",
        "for z,y in unknown_histograms:\n",
        "  for k,x in known_histograms:\n",
        "    try:\n",
        "        if len(x) == len(y):\n",
        "            error = np.sqrt(((x - y) ** 2).mean())\n",
        "            error = str(error)[:2]\n",
        "            match = float(100) - float(error)\n",
        "            diff = ImageChops.difference(z,k).getbbox()\n",
        "        if diff:\n",
        "          continue\n",
        "          # fig, axs = plt.subplots(2, 1)\n",
        "          # axs[0].imshow(z)\n",
        "          # axs[1].imshow(k)\n",
        "        else:\n",
        "          print(\"Present\")\n",
        "          plt.imshow(k)\n",
        "          plt.imshow(z)\n",
        "          plt.show()\n",
        "    except ValueError as identifier:\n",
        "      print(match)"
      ]
    },
    {
      "cell_type": "code",
      "execution_count": null,
      "metadata": {
        "id": "EPG6qt2WX37f"
      },
      "outputs": [],
      "source": [
        "!rm -rf newtest"
      ]
    }
  ],
  "metadata": {
    "accelerator": "GPU",
    "colab": {
      "provenance": []
    },
    "kernelspec": {
      "display_name": "Python 3",
      "name": "python3"
    },
    "language_info": {
      "name": "python"
    }
  },
  "nbformat": 4,
  "nbformat_minor": 0
}